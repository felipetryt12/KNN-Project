{
 "cells": [
  {
   "cell_type": "code",
   "execution_count": 42,
   "metadata": {},
   "outputs": [],
   "source": [
    "import pandas as pd \n",
    "import numpy as np \n",
    "import matplotlib.pyplot as plt\n",
    "from sklearn.feature_extraction.text import CountVectorizer, TfidfVectorizer\n",
    "from sklearn.metrics.pairwise import cosine_similarity\n",
    "import json\n",
    "import joblib"
   ]
  },
  {
   "cell_type": "code",
   "execution_count": 43,
   "metadata": {},
   "outputs": [
    {
     "data": {
      "text/html": [
       "<div>\n",
       "<style scoped>\n",
       "    .dataframe tbody tr th:only-of-type {\n",
       "        vertical-align: middle;\n",
       "    }\n",
       "\n",
       "    .dataframe tbody tr th {\n",
       "        vertical-align: top;\n",
       "    }\n",
       "\n",
       "    .dataframe thead th {\n",
       "        text-align: right;\n",
       "    }\n",
       "</style>\n",
       "<table border=\"1\" class=\"dataframe\">\n",
       "  <thead>\n",
       "    <tr style=\"text-align: right;\">\n",
       "      <th></th>\n",
       "      <th>movie_id</th>\n",
       "      <th>title</th>\n",
       "      <th>overview</th>\n",
       "      <th>genres</th>\n",
       "      <th>keywords</th>\n",
       "      <th>cast</th>\n",
       "      <th>crew</th>\n",
       "      <th>tags</th>\n",
       "    </tr>\n",
       "  </thead>\n",
       "  <tbody>\n",
       "    <tr>\n",
       "      <th>0</th>\n",
       "      <td>19995</td>\n",
       "      <td>Avatar</td>\n",
       "      <td>['In', 'the', '22nd', 'century,', 'a', 'parapl...</td>\n",
       "      <td>['Action', 'Adventure', 'Fantasy', 'ScienceFic...</td>\n",
       "      <td>['cultureclash', 'future', 'spacewar', 'spacec...</td>\n",
       "      <td>['SamWorthington', 'ZoeSaldana', 'SigourneyWea...</td>\n",
       "      <td>JamesCameron</td>\n",
       "      <td>In the 22nd century, a paraplegic Marine is di...</td>\n",
       "    </tr>\n",
       "    <tr>\n",
       "      <th>1</th>\n",
       "      <td>285</td>\n",
       "      <td>Pirates of the Caribbean: At World's End</td>\n",
       "      <td>['Captain', 'Barbossa,', 'long', 'believed', '...</td>\n",
       "      <td>['Adventure', 'Fantasy', 'Action']</td>\n",
       "      <td>['ocean', 'drugabuse', 'exoticisland', 'eastin...</td>\n",
       "      <td>['JohnnyDepp', 'OrlandoBloom', 'KeiraKnightley']</td>\n",
       "      <td>GoreVerbinski</td>\n",
       "      <td>Captain Barbossa, long believed to be dead, ha...</td>\n",
       "    </tr>\n",
       "    <tr>\n",
       "      <th>2</th>\n",
       "      <td>206647</td>\n",
       "      <td>Spectre</td>\n",
       "      <td>['A', 'cryptic', 'message', 'from', 'Bond’s', ...</td>\n",
       "      <td>['Action', 'Adventure', 'Crime']</td>\n",
       "      <td>['spy', 'basedonnovel', 'secretagent', 'sequel...</td>\n",
       "      <td>['DanielCraig', 'ChristophWaltz', 'LéaSeydoux']</td>\n",
       "      <td>SamMendes</td>\n",
       "      <td>A cryptic message from Bond’s past sends him o...</td>\n",
       "    </tr>\n",
       "    <tr>\n",
       "      <th>3</th>\n",
       "      <td>49026</td>\n",
       "      <td>The Dark Knight Rises</td>\n",
       "      <td>['Following', 'the', 'death', 'of', 'District'...</td>\n",
       "      <td>['Action', 'Crime', 'Drama', 'Thriller']</td>\n",
       "      <td>['dccomics', 'crimefighter', 'terrorist', 'sec...</td>\n",
       "      <td>['ChristianBale', 'MichaelCaine', 'GaryOldman']</td>\n",
       "      <td>ChristopherNolan</td>\n",
       "      <td>Following the death of District Attorney Harve...</td>\n",
       "    </tr>\n",
       "    <tr>\n",
       "      <th>4</th>\n",
       "      <td>49529</td>\n",
       "      <td>John Carter</td>\n",
       "      <td>['John', 'Carter', 'is', 'a', 'war-weary,', 'f...</td>\n",
       "      <td>['Action', 'Adventure', 'ScienceFiction']</td>\n",
       "      <td>['basedonnovel', 'mars', 'medallion', 'spacetr...</td>\n",
       "      <td>['TaylorKitsch', 'LynnCollins', 'SamanthaMorton']</td>\n",
       "      <td>AndrewStanton</td>\n",
       "      <td>John Carter is a war-weary, former military ca...</td>\n",
       "    </tr>\n",
       "  </tbody>\n",
       "</table>\n",
       "</div>"
      ],
      "text/plain": [
       "   movie_id                                     title  \\\n",
       "0     19995                                    Avatar   \n",
       "1       285  Pirates of the Caribbean: At World's End   \n",
       "2    206647                                   Spectre   \n",
       "3     49026                     The Dark Knight Rises   \n",
       "4     49529                               John Carter   \n",
       "\n",
       "                                            overview  \\\n",
       "0  ['In', 'the', '22nd', 'century,', 'a', 'parapl...   \n",
       "1  ['Captain', 'Barbossa,', 'long', 'believed', '...   \n",
       "2  ['A', 'cryptic', 'message', 'from', 'Bond’s', ...   \n",
       "3  ['Following', 'the', 'death', 'of', 'District'...   \n",
       "4  ['John', 'Carter', 'is', 'a', 'war-weary,', 'f...   \n",
       "\n",
       "                                              genres  \\\n",
       "0  ['Action', 'Adventure', 'Fantasy', 'ScienceFic...   \n",
       "1                 ['Adventure', 'Fantasy', 'Action']   \n",
       "2                   ['Action', 'Adventure', 'Crime']   \n",
       "3           ['Action', 'Crime', 'Drama', 'Thriller']   \n",
       "4          ['Action', 'Adventure', 'ScienceFiction']   \n",
       "\n",
       "                                            keywords  \\\n",
       "0  ['cultureclash', 'future', 'spacewar', 'spacec...   \n",
       "1  ['ocean', 'drugabuse', 'exoticisland', 'eastin...   \n",
       "2  ['spy', 'basedonnovel', 'secretagent', 'sequel...   \n",
       "3  ['dccomics', 'crimefighter', 'terrorist', 'sec...   \n",
       "4  ['basedonnovel', 'mars', 'medallion', 'spacetr...   \n",
       "\n",
       "                                                cast              crew  \\\n",
       "0  ['SamWorthington', 'ZoeSaldana', 'SigourneyWea...      JamesCameron   \n",
       "1   ['JohnnyDepp', 'OrlandoBloom', 'KeiraKnightley']     GoreVerbinski   \n",
       "2    ['DanielCraig', 'ChristophWaltz', 'LéaSeydoux']         SamMendes   \n",
       "3    ['ChristianBale', 'MichaelCaine', 'GaryOldman']  ChristopherNolan   \n",
       "4  ['TaylorKitsch', 'LynnCollins', 'SamanthaMorton']     AndrewStanton   \n",
       "\n",
       "                                                tags  \n",
       "0  In the 22nd century, a paraplegic Marine is di...  \n",
       "1  Captain Barbossa, long believed to be dead, ha...  \n",
       "2  A cryptic message from Bond’s past sends him o...  \n",
       "3  Following the death of District Attorney Harve...  \n",
       "4  John Carter is a war-weary, former military ca...  "
      ]
     },
     "execution_count": 43,
     "metadata": {},
     "output_type": "execute_result"
    }
   ],
   "source": [
    "data_for_model = pd.read_csv(rf\"C:\\Users\\wipip\\OneDrive\\Documentos\\GitHub\\KNN-Project-main\\data\\interim\\data_con_tags.csv\")\n",
    "data_for_model.head()"
   ]
  },
  {
   "cell_type": "code",
   "execution_count": 44,
   "metadata": {},
   "outputs": [],
   "source": [
    "vectorizador = TfidfVectorizer()\n",
    "data_vectorizada = vectorizador.fit_transform(data_for_model['tags'])\n",
    "matriz_similitud = cosine_similarity(data_vectorizada)"
   ]
  },
  {
   "cell_type": "markdown",
   "metadata": {},
   "source": [
    "Ahora crearemos la funcion de recomendacion de peliculas "
   ]
  },
  {
   "cell_type": "code",
   "execution_count": 45,
   "metadata": {},
   "outputs": [],
   "source": [
    "def recomienda(titulo_pelicula):\n",
    "    index_pelicula = data_for_model[data_for_model['title'] == titulo_pelicula].index[0]\n",
    "    distancia = matriz_similitud[index_pelicula]\n",
    "    lista_peliculas = sorted(list(enumerate(distancia)), reverse=True, key=lambda x: x[1])[1:6]\n",
    "    for i in lista_peliculas:\n",
    "        print(data_for_model.iloc[i[0]].title)"
   ]
  },
  {
   "cell_type": "markdown",
   "metadata": {},
   "source": [
    "En esta funcion lo que hacemos es: primero obtener el index de la pelicula que estamos introduciendo en la funcion, para partir de ahi. \n",
    "posteriormente la variable distancia obtendra lasa similitudess de la pelicula con todas las demas peliculas utilizando los tags vectorizados y finalmente vamos a enumerar las 5 peliculas mas cercanas de acuerdo a la vecorizacion\n"
   ]
  },
  {
   "cell_type": "code",
   "execution_count": 46,
   "metadata": {},
   "outputs": [
    {
     "name": "stdout",
     "output_type": "stream",
     "text": [
      "Kung Fu Panda 2\n",
      "Kung Fu Panda 3\n",
      "Legend of a Rabbit\n",
      "Kung Fu Hustle\n",
      "The Forbidden Kingdom\n"
     ]
    }
   ],
   "source": [
    "recomienda('Kung Fu Panda')"
   ]
  },
  {
   "cell_type": "markdown",
   "metadata": {},
   "source": [
    "Cabe aclarar que utilizamos tfi vectorizer debido a da un representacion mas detallada y pondera las palabras dentro de la vectorizacion para obtener vectores mas especificos y con ello que la similitud pueda ser con datos mas limpios y menos 'generalizados'."
   ]
  },
  {
   "cell_type": "markdown",
   "metadata": {},
   "source": [
    "Finalmente guardamos nuestro modelo."
   ]
  },
  {
   "cell_type": "code",
   "execution_count": 47,
   "metadata": {},
   "outputs": [
    {
     "data": {
      "text/plain": [
       "['C:\\\\Users\\\\wipip\\\\OneDrive\\\\Documentos\\\\GitHub\\\\KNN-Project-main\\\\models\\\\data_for_model.pkl']"
      ]
     },
     "execution_count": 47,
     "metadata": {},
     "output_type": "execute_result"
    }
   ],
   "source": [
    "joblib.dump(vectorizador, r'C:\\Users\\wipip\\OneDrive\\Documentos\\GitHub\\KNN-Project-main\\models\\vectorizador_tfidf.pkl')\n",
    "joblib.dump(data_for_model, r'C:\\Users\\wipip\\OneDrive\\Documentos\\GitHub\\KNN-Project-main\\models\\data_for_model.pkl')"
   ]
  }
 ],
 "metadata": {
  "kernelspec": {
   "display_name": "Python 3",
   "language": "python",
   "name": "python3"
  },
  "language_info": {
   "codemirror_mode": {
    "name": "ipython",
    "version": 3
   },
   "file_extension": ".py",
   "mimetype": "text/x-python",
   "name": "python",
   "nbconvert_exporter": "python",
   "pygments_lexer": "ipython3",
   "version": "3.12.4"
  }
 },
 "nbformat": 4,
 "nbformat_minor": 2
}
