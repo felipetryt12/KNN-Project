{
    "cells": [
        {
            "cell_type": "markdown",
            "metadata": {},
            "source": [
                "# Explore here"
            ]
        },
        {
            "cell_type": "code",
            "execution_count": 236,
            "metadata": {},
            "outputs": [],
            "source": [
                "import pandas as pd \n",
                "import ast\n",
                "import numpy as np \n",
                "import matplotlib.pyplot as plt \n",
                "import seaborn as sns \n"
            ]
        },
        {
            "cell_type": "markdown",
            "metadata": {},
            "source": [
                "importamos pandas y leemos los data sets iniciales"
            ]
        },
        {
            "cell_type": "code",
            "execution_count": 237,
            "metadata": {},
            "outputs": [],
            "source": [
                "peliculas = pd.read_csv('https://raw.githubusercontent.com/4GeeksAcademy/k-nearest-neighbors-project-tutorial/main/tmdb_5000_movies.csv')\n",
                "creditos = pd.read_csv('https://raw.githubusercontent.com/4GeeksAcademy/k-nearest-neighbors-project-tutorial/main/tmdb_5000_credits.csv')"
            ]
        },
        {
            "cell_type": "code",
            "execution_count": 264,
            "metadata": {},
            "outputs": [],
            "source": [
                "data_sin_procesar = pd.concat([peliculas, creditos])"
            ]
        },
        {
            "cell_type": "code",
            "execution_count": 265,
            "metadata": {},
            "outputs": [],
            "source": [
                "data_sin_procesar.to_csv(rf'C:\\Users\\wipip\\OneDrive\\Documentos\\GitHub\\KNN-Project-main\\data\\raw\\data_sin_procesar.csv')"
            ]
        },
        {
            "cell_type": "markdown",
            "metadata": {},
            "source": [
                "Empezamos importando sqalchemy y creando una base de datos utilizando SQLite"
            ]
        },
        {
            "cell_type": "code",
            "execution_count": 238,
            "metadata": {},
            "outputs": [
                {
                    "name": "stdout",
                    "output_type": "stream",
                    "text": [
                        "<class 'pandas.core.frame.DataFrame'>\n",
                        "RangeIndex: 4803 entries, 0 to 4802\n",
                        "Data columns (total 20 columns):\n",
                        " #   Column                Non-Null Count  Dtype  \n",
                        "---  ------                --------------  -----  \n",
                        " 0   budget                4803 non-null   int64  \n",
                        " 1   genres                4803 non-null   object \n",
                        " 2   homepage              1712 non-null   object \n",
                        " 3   id                    4803 non-null   int64  \n",
                        " 4   keywords              4803 non-null   object \n",
                        " 5   original_language     4803 non-null   object \n",
                        " 6   original_title        4803 non-null   object \n",
                        " 7   overview              4800 non-null   object \n",
                        " 8   popularity            4803 non-null   float64\n",
                        " 9   production_companies  4803 non-null   object \n",
                        " 10  production_countries  4803 non-null   object \n",
                        " 11  release_date          4802 non-null   object \n",
                        " 12  revenue               4803 non-null   int64  \n",
                        " 13  runtime               4801 non-null   float64\n",
                        " 14  spoken_languages      4803 non-null   object \n",
                        " 15  status                4803 non-null   object \n",
                        " 16  tagline               3959 non-null   object \n",
                        " 17  title                 4803 non-null   object \n",
                        " 18  vote_average          4803 non-null   float64\n",
                        " 19  vote_count            4803 non-null   int64  \n",
                        "dtypes: float64(3), int64(4), object(13)\n",
                        "memory usage: 750.6+ KB\n"
                    ]
                }
            ],
            "source": [
                "peliculas.info()"
            ]
        },
        {
            "cell_type": "code",
            "execution_count": 239,
            "metadata": {},
            "outputs": [
                {
                    "name": "stdout",
                    "output_type": "stream",
                    "text": [
                        "<class 'pandas.core.frame.DataFrame'>\n",
                        "RangeIndex: 4803 entries, 0 to 4802\n",
                        "Data columns (total 4 columns):\n",
                        " #   Column    Non-Null Count  Dtype \n",
                        "---  ------    --------------  ----- \n",
                        " 0   movie_id  4803 non-null   int64 \n",
                        " 1   title     4803 non-null   object\n",
                        " 2   cast      4803 non-null   object\n",
                        " 3   crew      4803 non-null   object\n",
                        "dtypes: int64(1), object(3)\n",
                        "memory usage: 150.2+ KB\n"
                    ]
                }
            ],
            "source": [
                "creditos.info()"
            ]
        },
        {
            "cell_type": "code",
            "execution_count": 240,
            "metadata": {},
            "outputs": [],
            "source": [
                "from sqlalchemy import create_engine\n",
                "\n",
                "engine = create_engine('sqlite:///:memory:')"
            ]
        },
        {
            "cell_type": "markdown",
            "metadata": {},
            "source": [
                "Es importante mencionar que en este punto utilizamos SQLite por la simplicidad, pero podriamos utlizar MySQL o postgreSQL, sin embargo esto comunmente requiere de configuraciones adicionales, por lo que continuaremos con esta ruta. Lo unico que nos puede ser contraproducente es que la base de datos que acabamos de crear esta disponible unicamente mientras ejecutamos el programa."
            ]
        },
        {
            "cell_type": "markdown",
            "metadata": {},
            "source": [
                "Ahora lo que haremos sera guardar los data frames que acabamos de crear en tablas de sql para poder manipularlos dentro de la base de datos. "
            ]
        },
        {
            "cell_type": "code",
            "execution_count": 241,
            "metadata": {},
            "outputs": [
                {
                    "data": {
                        "text/plain": [
                            "4803"
                        ]
                    },
                    "execution_count": 241,
                    "metadata": {},
                    "output_type": "execute_result"
                }
            ],
            "source": [
                "peliculas.to_sql('peliculas', engine, index=False)\n",
                "creditos.to_sql('creditos', engine, index=False) \n"
            ]
        },
        {
            "cell_type": "markdown",
            "metadata": {},
            "source": [
                "Ahora vamos a unir las tablas utilizando SQL, utilizaremos querys para escribir nuestro codigo de sql y posteriormente utilizaremos la funcion de read sql para transformar nuestra tabla de sql de nuevo en un data frame de pandas para comenzar a hacer nuesto EDA. \n"
            ]
        },
        {
            "cell_type": "code",
            "execution_count": 242,
            "metadata": {},
            "outputs": [],
            "source": [
                "query = \"\"\" \n",
                "SELECT creditos.movie_id, peliculas.title, peliculas.overview, peliculas.genres, peliculas.keywords, creditos.cast, creditos.crew\n",
                "FROM peliculas\n",
                "JOIN creditos \n",
                "ON peliculas.title = creditos.title\n",
                "\"\"\"\n",
                "\n",
                "data = pd.read_sql(query, engine)"
            ]
        },
        {
            "cell_type": "markdown",
            "metadata": {},
            "source": [
                "En este caso estaremos utilizando el query, que es el nombre comun que se le da a las cadenas de consulta de SQL, la funcion especifica que creamos con el query es la de seleccionar columnas especificas de las tablas de peliculas y creditos para unirlas usando como clave de  union el titulo de las peliculas. En otras palabras, hacemos el query para seleccionar columnas especificas de nuestras tablas donde los titulos coinciden.\n",
                "\n",
                "Lo siguiente que haremos sera crear un data frame llamado \" data \" en el cual vamos a asignar la  ejecucion de la consulta en SQL a la base de datos.\n",
                " "
            ]
        },
        {
            "cell_type": "code",
            "execution_count": 243,
            "metadata": {},
            "outputs": [
                {
                    "data": {
                        "text/html": [
                            "<div>\n",
                            "<style scoped>\n",
                            "    .dataframe tbody tr th:only-of-type {\n",
                            "        vertical-align: middle;\n",
                            "    }\n",
                            "\n",
                            "    .dataframe tbody tr th {\n",
                            "        vertical-align: top;\n",
                            "    }\n",
                            "\n",
                            "    .dataframe thead th {\n",
                            "        text-align: right;\n",
                            "    }\n",
                            "</style>\n",
                            "<table border=\"1\" class=\"dataframe\">\n",
                            "  <thead>\n",
                            "    <tr style=\"text-align: right;\">\n",
                            "      <th></th>\n",
                            "      <th>movie_id</th>\n",
                            "      <th>title</th>\n",
                            "      <th>overview</th>\n",
                            "      <th>genres</th>\n",
                            "      <th>keywords</th>\n",
                            "      <th>cast</th>\n",
                            "      <th>crew</th>\n",
                            "    </tr>\n",
                            "  </thead>\n",
                            "  <tbody>\n",
                            "    <tr>\n",
                            "      <th>0</th>\n",
                            "      <td>19995</td>\n",
                            "      <td>Avatar</td>\n",
                            "      <td>In the 22nd century, a paraplegic Marine is di...</td>\n",
                            "      <td>[{\"id\": 28, \"name\": \"Action\"}, {\"id\": 12, \"nam...</td>\n",
                            "      <td>[{\"id\": 1463, \"name\": \"culture clash\"}, {\"id\":...</td>\n",
                            "      <td>[{\"cast_id\": 242, \"character\": \"Jake Sully\", \"...</td>\n",
                            "      <td>[{\"credit_id\": \"52fe48009251416c750aca23\", \"de...</td>\n",
                            "    </tr>\n",
                            "    <tr>\n",
                            "      <th>1</th>\n",
                            "      <td>285</td>\n",
                            "      <td>Pirates of the Caribbean: At World's End</td>\n",
                            "      <td>Captain Barbossa, long believed to be dead, ha...</td>\n",
                            "      <td>[{\"id\": 12, \"name\": \"Adventure\"}, {\"id\": 14, \"...</td>\n",
                            "      <td>[{\"id\": 270, \"name\": \"ocean\"}, {\"id\": 726, \"na...</td>\n",
                            "      <td>[{\"cast_id\": 4, \"character\": \"Captain Jack Spa...</td>\n",
                            "      <td>[{\"credit_id\": \"52fe4232c3a36847f800b579\", \"de...</td>\n",
                            "    </tr>\n",
                            "    <tr>\n",
                            "      <th>2</th>\n",
                            "      <td>206647</td>\n",
                            "      <td>Spectre</td>\n",
                            "      <td>A cryptic message from Bond’s past sends him o...</td>\n",
                            "      <td>[{\"id\": 28, \"name\": \"Action\"}, {\"id\": 12, \"nam...</td>\n",
                            "      <td>[{\"id\": 470, \"name\": \"spy\"}, {\"id\": 818, \"name...</td>\n",
                            "      <td>[{\"cast_id\": 1, \"character\": \"James Bond\", \"cr...</td>\n",
                            "      <td>[{\"credit_id\": \"54805967c3a36829b5002c41\", \"de...</td>\n",
                            "    </tr>\n",
                            "    <tr>\n",
                            "      <th>3</th>\n",
                            "      <td>49026</td>\n",
                            "      <td>The Dark Knight Rises</td>\n",
                            "      <td>Following the death of District Attorney Harve...</td>\n",
                            "      <td>[{\"id\": 28, \"name\": \"Action\"}, {\"id\": 80, \"nam...</td>\n",
                            "      <td>[{\"id\": 849, \"name\": \"dc comics\"}, {\"id\": 853,...</td>\n",
                            "      <td>[{\"cast_id\": 2, \"character\": \"Bruce Wayne / Ba...</td>\n",
                            "      <td>[{\"credit_id\": \"52fe4781c3a36847f81398c3\", \"de...</td>\n",
                            "    </tr>\n",
                            "    <tr>\n",
                            "      <th>4</th>\n",
                            "      <td>49529</td>\n",
                            "      <td>John Carter</td>\n",
                            "      <td>John Carter is a war-weary, former military ca...</td>\n",
                            "      <td>[{\"id\": 28, \"name\": \"Action\"}, {\"id\": 12, \"nam...</td>\n",
                            "      <td>[{\"id\": 818, \"name\": \"based on novel\"}, {\"id\":...</td>\n",
                            "      <td>[{\"cast_id\": 5, \"character\": \"John Carter\", \"c...</td>\n",
                            "      <td>[{\"credit_id\": \"52fe479ac3a36847f813eaa3\", \"de...</td>\n",
                            "    </tr>\n",
                            "  </tbody>\n",
                            "</table>\n",
                            "</div>"
                        ],
                        "text/plain": [
                            "   movie_id                                     title  \\\n",
                            "0     19995                                    Avatar   \n",
                            "1       285  Pirates of the Caribbean: At World's End   \n",
                            "2    206647                                   Spectre   \n",
                            "3     49026                     The Dark Knight Rises   \n",
                            "4     49529                               John Carter   \n",
                            "\n",
                            "                                            overview  \\\n",
                            "0  In the 22nd century, a paraplegic Marine is di...   \n",
                            "1  Captain Barbossa, long believed to be dead, ha...   \n",
                            "2  A cryptic message from Bond’s past sends him o...   \n",
                            "3  Following the death of District Attorney Harve...   \n",
                            "4  John Carter is a war-weary, former military ca...   \n",
                            "\n",
                            "                                              genres  \\\n",
                            "0  [{\"id\": 28, \"name\": \"Action\"}, {\"id\": 12, \"nam...   \n",
                            "1  [{\"id\": 12, \"name\": \"Adventure\"}, {\"id\": 14, \"...   \n",
                            "2  [{\"id\": 28, \"name\": \"Action\"}, {\"id\": 12, \"nam...   \n",
                            "3  [{\"id\": 28, \"name\": \"Action\"}, {\"id\": 80, \"nam...   \n",
                            "4  [{\"id\": 28, \"name\": \"Action\"}, {\"id\": 12, \"nam...   \n",
                            "\n",
                            "                                            keywords  \\\n",
                            "0  [{\"id\": 1463, \"name\": \"culture clash\"}, {\"id\":...   \n",
                            "1  [{\"id\": 270, \"name\": \"ocean\"}, {\"id\": 726, \"na...   \n",
                            "2  [{\"id\": 470, \"name\": \"spy\"}, {\"id\": 818, \"name...   \n",
                            "3  [{\"id\": 849, \"name\": \"dc comics\"}, {\"id\": 853,...   \n",
                            "4  [{\"id\": 818, \"name\": \"based on novel\"}, {\"id\":...   \n",
                            "\n",
                            "                                                cast  \\\n",
                            "0  [{\"cast_id\": 242, \"character\": \"Jake Sully\", \"...   \n",
                            "1  [{\"cast_id\": 4, \"character\": \"Captain Jack Spa...   \n",
                            "2  [{\"cast_id\": 1, \"character\": \"James Bond\", \"cr...   \n",
                            "3  [{\"cast_id\": 2, \"character\": \"Bruce Wayne / Ba...   \n",
                            "4  [{\"cast_id\": 5, \"character\": \"John Carter\", \"c...   \n",
                            "\n",
                            "                                                crew  \n",
                            "0  [{\"credit_id\": \"52fe48009251416c750aca23\", \"de...  \n",
                            "1  [{\"credit_id\": \"52fe4232c3a36847f800b579\", \"de...  \n",
                            "2  [{\"credit_id\": \"54805967c3a36829b5002c41\", \"de...  \n",
                            "3  [{\"credit_id\": \"52fe4781c3a36847f81398c3\", \"de...  \n",
                            "4  [{\"credit_id\": \"52fe479ac3a36847f813eaa3\", \"de...  "
                        ]
                    },
                    "execution_count": 243,
                    "metadata": {},
                    "output_type": "execute_result"
                }
            ],
            "source": [
                "data.head()"
            ]
        },
        {
            "cell_type": "markdown",
            "metadata": {},
            "source": [
                "Ahora tenemos que transformar los datos debido a las columnas que tienen un formato JSON"
            ]
        },
        {
            "cell_type": "code",
            "execution_count": 244,
            "metadata": {},
            "outputs": [],
            "source": [
                "def obtener_nombres(columna):\n",
                "    return [i['name'] for i in ast.literal_eval(columna)]\n",
                "\n",
                "data['genres'] = data['genres'].apply(obtener_nombres)\n",
                "data['keywords'] = data['keywords'].apply(obtener_nombres)\n",
                "data['cast'] = data['cast'].apply(lambda x: obtener_nombres(x)[:3])"
            ]
        },
        {
            "cell_type": "code",
            "execution_count": 245,
            "metadata": {},
            "outputs": [],
            "source": [
                "def seleccionar_director(columna):\n",
                "    for i in ast.literal_eval(columna):\n",
                "        if i['job'] == 'Director':\n",
                "            return i['name']\n",
                "    return np.nan\n",
                "\n",
                "data['crew']= data['crew'].apply(seleccionar_director)"
            ]
        },
        {
            "cell_type": "code",
            "execution_count": 246,
            "metadata": {},
            "outputs": [
                {
                    "data": {
                        "text/html": [
                            "<div>\n",
                            "<style scoped>\n",
                            "    .dataframe tbody tr th:only-of-type {\n",
                            "        vertical-align: middle;\n",
                            "    }\n",
                            "\n",
                            "    .dataframe tbody tr th {\n",
                            "        vertical-align: top;\n",
                            "    }\n",
                            "\n",
                            "    .dataframe thead th {\n",
                            "        text-align: right;\n",
                            "    }\n",
                            "</style>\n",
                            "<table border=\"1\" class=\"dataframe\">\n",
                            "  <thead>\n",
                            "    <tr style=\"text-align: right;\">\n",
                            "      <th></th>\n",
                            "      <th>movie_id</th>\n",
                            "      <th>title</th>\n",
                            "      <th>overview</th>\n",
                            "      <th>genres</th>\n",
                            "      <th>keywords</th>\n",
                            "      <th>cast</th>\n",
                            "      <th>crew</th>\n",
                            "    </tr>\n",
                            "  </thead>\n",
                            "  <tbody>\n",
                            "    <tr>\n",
                            "      <th>0</th>\n",
                            "      <td>19995</td>\n",
                            "      <td>Avatar</td>\n",
                            "      <td>In the 22nd century, a paraplegic Marine is di...</td>\n",
                            "      <td>[Action, Adventure, Fantasy, Science Fiction]</td>\n",
                            "      <td>[culture clash, future, space war, space colon...</td>\n",
                            "      <td>[Sam Worthington, Zoe Saldana, Sigourney Weaver]</td>\n",
                            "      <td>James Cameron</td>\n",
                            "    </tr>\n",
                            "    <tr>\n",
                            "      <th>1</th>\n",
                            "      <td>285</td>\n",
                            "      <td>Pirates of the Caribbean: At World's End</td>\n",
                            "      <td>Captain Barbossa, long believed to be dead, ha...</td>\n",
                            "      <td>[Adventure, Fantasy, Action]</td>\n",
                            "      <td>[ocean, drug abuse, exotic island, east india ...</td>\n",
                            "      <td>[Johnny Depp, Orlando Bloom, Keira Knightley]</td>\n",
                            "      <td>Gore Verbinski</td>\n",
                            "    </tr>\n",
                            "    <tr>\n",
                            "      <th>2</th>\n",
                            "      <td>206647</td>\n",
                            "      <td>Spectre</td>\n",
                            "      <td>A cryptic message from Bond’s past sends him o...</td>\n",
                            "      <td>[Action, Adventure, Crime]</td>\n",
                            "      <td>[spy, based on novel, secret agent, sequel, mi...</td>\n",
                            "      <td>[Daniel Craig, Christoph Waltz, Léa Seydoux]</td>\n",
                            "      <td>Sam Mendes</td>\n",
                            "    </tr>\n",
                            "    <tr>\n",
                            "      <th>3</th>\n",
                            "      <td>49026</td>\n",
                            "      <td>The Dark Knight Rises</td>\n",
                            "      <td>Following the death of District Attorney Harve...</td>\n",
                            "      <td>[Action, Crime, Drama, Thriller]</td>\n",
                            "      <td>[dc comics, crime fighter, terrorist, secret i...</td>\n",
                            "      <td>[Christian Bale, Michael Caine, Gary Oldman]</td>\n",
                            "      <td>Christopher Nolan</td>\n",
                            "    </tr>\n",
                            "    <tr>\n",
                            "      <th>4</th>\n",
                            "      <td>49529</td>\n",
                            "      <td>John Carter</td>\n",
                            "      <td>John Carter is a war-weary, former military ca...</td>\n",
                            "      <td>[Action, Adventure, Science Fiction]</td>\n",
                            "      <td>[based on novel, mars, medallion, space travel...</td>\n",
                            "      <td>[Taylor Kitsch, Lynn Collins, Samantha Morton]</td>\n",
                            "      <td>Andrew Stanton</td>\n",
                            "    </tr>\n",
                            "  </tbody>\n",
                            "</table>\n",
                            "</div>"
                        ],
                        "text/plain": [
                            "   movie_id                                     title  \\\n",
                            "0     19995                                    Avatar   \n",
                            "1       285  Pirates of the Caribbean: At World's End   \n",
                            "2    206647                                   Spectre   \n",
                            "3     49026                     The Dark Knight Rises   \n",
                            "4     49529                               John Carter   \n",
                            "\n",
                            "                                            overview  \\\n",
                            "0  In the 22nd century, a paraplegic Marine is di...   \n",
                            "1  Captain Barbossa, long believed to be dead, ha...   \n",
                            "2  A cryptic message from Bond’s past sends him o...   \n",
                            "3  Following the death of District Attorney Harve...   \n",
                            "4  John Carter is a war-weary, former military ca...   \n",
                            "\n",
                            "                                          genres  \\\n",
                            "0  [Action, Adventure, Fantasy, Science Fiction]   \n",
                            "1                   [Adventure, Fantasy, Action]   \n",
                            "2                     [Action, Adventure, Crime]   \n",
                            "3               [Action, Crime, Drama, Thriller]   \n",
                            "4           [Action, Adventure, Science Fiction]   \n",
                            "\n",
                            "                                            keywords  \\\n",
                            "0  [culture clash, future, space war, space colon...   \n",
                            "1  [ocean, drug abuse, exotic island, east india ...   \n",
                            "2  [spy, based on novel, secret agent, sequel, mi...   \n",
                            "3  [dc comics, crime fighter, terrorist, secret i...   \n",
                            "4  [based on novel, mars, medallion, space travel...   \n",
                            "\n",
                            "                                               cast               crew  \n",
                            "0  [Sam Worthington, Zoe Saldana, Sigourney Weaver]      James Cameron  \n",
                            "1     [Johnny Depp, Orlando Bloom, Keira Knightley]     Gore Verbinski  \n",
                            "2      [Daniel Craig, Christoph Waltz, Léa Seydoux]         Sam Mendes  \n",
                            "3      [Christian Bale, Michael Caine, Gary Oldman]  Christopher Nolan  \n",
                            "4    [Taylor Kitsch, Lynn Collins, Samantha Morton]     Andrew Stanton  "
                        ]
                    },
                    "execution_count": 246,
                    "metadata": {},
                    "output_type": "execute_result"
                }
            ],
            "source": [
                "data.head()"
            ]
        },
        {
            "cell_type": "code",
            "execution_count": 247,
            "metadata": {},
            "outputs": [
                {
                    "name": "stdout",
                    "output_type": "stream",
                    "text": [
                        "<class 'pandas.core.frame.DataFrame'>\n",
                        "RangeIndex: 4809 entries, 0 to 4808\n",
                        "Data columns (total 7 columns):\n",
                        " #   Column    Non-Null Count  Dtype \n",
                        "---  ------    --------------  ----- \n",
                        " 0   movie_id  4809 non-null   int64 \n",
                        " 1   title     4809 non-null   object\n",
                        " 2   overview  4806 non-null   object\n",
                        " 3   genres    4809 non-null   object\n",
                        " 4   keywords  4809 non-null   object\n",
                        " 5   cast      4809 non-null   object\n",
                        " 6   crew      4779 non-null   object\n",
                        "dtypes: int64(1), object(6)\n",
                        "memory usage: 263.1+ KB\n"
                    ]
                }
            ],
            "source": [
                "data.info()"
            ]
        },
        {
            "cell_type": "code",
            "execution_count": 248,
            "metadata": {},
            "outputs": [],
            "source": [
                "data.dropna(inplace=True)"
            ]
        },
        {
            "cell_type": "code",
            "execution_count": 249,
            "metadata": {},
            "outputs": [
                {
                    "name": "stdout",
                    "output_type": "stream",
                    "text": [
                        "<class 'pandas.core.frame.DataFrame'>\n",
                        "Index: 4776 entries, 0 to 4808\n",
                        "Data columns (total 7 columns):\n",
                        " #   Column    Non-Null Count  Dtype \n",
                        "---  ------    --------------  ----- \n",
                        " 0   movie_id  4776 non-null   int64 \n",
                        " 1   title     4776 non-null   object\n",
                        " 2   overview  4776 non-null   object\n",
                        " 3   genres    4776 non-null   object\n",
                        " 4   keywords  4776 non-null   object\n",
                        " 5   cast      4776 non-null   object\n",
                        " 6   crew      4776 non-null   object\n",
                        "dtypes: int64(1), object(6)\n",
                        "memory usage: 298.5+ KB\n"
                    ]
                }
            ],
            "source": [
                "data.info()"
            ]
        },
        {
            "cell_type": "markdown",
            "metadata": {},
            "source": [
                "Ahora vamos a eliminar los espacios de las palabras, convertir las listas a strings y eliminar los corchetes y comiilas simples"
            ]
        },
        {
            "cell_type": "code",
            "execution_count": 250,
            "metadata": {},
            "outputs": [],
            "source": [
                "import re\n",
                "def eliminar_espacio(palabra):\n",
                "    str_limpio = re.sub(r'\\s+', '', palabra).strip()\n",
                "    return str_limpio"
            ]
        },
        {
            "cell_type": "code",
            "execution_count": 251,
            "metadata": {},
            "outputs": [
                {
                    "data": {
                        "text/plain": [
                            "'JamesCameron'"
                        ]
                    },
                    "execution_count": 251,
                    "metadata": {},
                    "output_type": "execute_result"
                }
            ],
            "source": [
                "\n",
                "data['crew'] = data['crew'].apply(eliminar_espacio)\n",
                "data['crew'][0]"
            ]
        },
        {
            "cell_type": "code",
            "execution_count": 252,
            "metadata": {},
            "outputs": [],
            "source": [
                "data['cast'] = data['cast'].apply(lambda x: [''.join(i.split()) for i in x])\n",
                "data['genres'] = data['genres'].apply(lambda x: [''.join(i.split()) for i in x])\n",
                "data['keywords'] = data['keywords'].apply(lambda x: [''.join(i.split()) for i in x])"
            ]
        },
        {
            "cell_type": "code",
            "execution_count": 253,
            "metadata": {},
            "outputs": [
                {
                    "name": "stdout",
                    "output_type": "stream",
                    "text": [
                        "['SamWorthington', 'ZoeSaldana', 'SigourneyWeaver'] ['Action', 'Adventure', 'Fantasy', 'ScienceFiction'] JamesCameron ['cultureclash', 'future', 'spacewar', 'spacecolony', 'society', 'spacetravel', 'futuristic', 'romance', 'space', 'alien', 'tribe', 'alienplanet', 'cgi', 'marine', 'soldier', 'battle', 'loveaffair', 'antiwar', 'powerrelations', 'mindandsoul', '3d']\n"
                    ]
                }
            ],
            "source": [
                "print(data['cast'][0],\n",
                "data['genres'][0],\n",
                "data['crew'][0],\n",
                "data['keywords'][0])"
            ]
        },
        {
            "cell_type": "code",
            "execution_count": 254,
            "metadata": {},
            "outputs": [],
            "source": [
                "data['cast'] = data['cast'].astype(str)\n",
                "data['genres'] = data['genres'].astype(str)\n",
                "data['keywords'] = data['keywords'].astype(str)"
            ]
        },
        {
            "cell_type": "code",
            "execution_count": 255,
            "metadata": {},
            "outputs": [],
            "source": [
                "data['tags'] = data['genres'] + ' ' + data['keywords'] + ' ' + data['cast'] + ' ' + data['crew']"
            ]
        },
        {
            "cell_type": "code",
            "execution_count": 256,
            "metadata": {},
            "outputs": [],
            "source": [
                "def quitar_puntuacion(columna):\n",
                "    columna = columna.replace(\"'\", \"\")\n",
                "    columna = columna.replace(\"]\", \"\")\n",
                "    columna = columna.replace(\"[\", \"\")\n",
                "    columna = columna.replace(\",\", \"\")\n",
                "    return columna"
            ]
        },
        {
            "cell_type": "code",
            "execution_count": 257,
            "metadata": {},
            "outputs": [],
            "source": [
                "data['tags'] = data['tags'].apply(quitar_puntuacion)"
            ]
        },
        {
            "cell_type": "code",
            "execution_count": 258,
            "metadata": {},
            "outputs": [],
            "source": [
                "data['tags'] = data['overview'] + ' ' + data['tags']"
            ]
        },
        {
            "cell_type": "code",
            "execution_count": 259,
            "metadata": {},
            "outputs": [
                {
                    "data": {
                        "text/plain": [
                            "'In the 22nd century, a paraplegic Marine is dispatched to the moon Pandora on a unique mission, but becomes torn between following orders and protecting an alien civilization. Action Adventure Fantasy ScienceFiction cultureclash future spacewar spacecolony society spacetravel futuristic romance space alien tribe alienplanet cgi marine soldier battle loveaffair antiwar powerrelations mindandsoul 3d SamWorthington ZoeSaldana SigourneyWeaver JamesCameron'"
                        ]
                    },
                    "execution_count": 259,
                    "metadata": {},
                    "output_type": "execute_result"
                }
            ],
            "source": [
                "data['tags'][0]"
            ]
        },
        {
            "cell_type": "markdown",
            "metadata": {},
            "source": [
                "Finalmente convertimos el overview en una lista"
            ]
        },
        {
            "cell_type": "code",
            "execution_count": 260,
            "metadata": {},
            "outputs": [],
            "source": [
                "data['overview'] = data['overview'].apply(lambda x: x.split())"
            ]
        },
        {
            "cell_type": "code",
            "execution_count": 261,
            "metadata": {},
            "outputs": [
                {
                    "data": {
                        "text/html": [
                            "<div>\n",
                            "<style scoped>\n",
                            "    .dataframe tbody tr th:only-of-type {\n",
                            "        vertical-align: middle;\n",
                            "    }\n",
                            "\n",
                            "    .dataframe tbody tr th {\n",
                            "        vertical-align: top;\n",
                            "    }\n",
                            "\n",
                            "    .dataframe thead th {\n",
                            "        text-align: right;\n",
                            "    }\n",
                            "</style>\n",
                            "<table border=\"1\" class=\"dataframe\">\n",
                            "  <thead>\n",
                            "    <tr style=\"text-align: right;\">\n",
                            "      <th></th>\n",
                            "      <th>movie_id</th>\n",
                            "      <th>title</th>\n",
                            "      <th>overview</th>\n",
                            "      <th>genres</th>\n",
                            "      <th>keywords</th>\n",
                            "      <th>cast</th>\n",
                            "      <th>crew</th>\n",
                            "      <th>tags</th>\n",
                            "    </tr>\n",
                            "  </thead>\n",
                            "  <tbody>\n",
                            "    <tr>\n",
                            "      <th>0</th>\n",
                            "      <td>19995</td>\n",
                            "      <td>Avatar</td>\n",
                            "      <td>[In, the, 22nd, century,, a, paraplegic, Marin...</td>\n",
                            "      <td>['Action', 'Adventure', 'Fantasy', 'ScienceFic...</td>\n",
                            "      <td>['cultureclash', 'future', 'spacewar', 'spacec...</td>\n",
                            "      <td>['SamWorthington', 'ZoeSaldana', 'SigourneyWea...</td>\n",
                            "      <td>JamesCameron</td>\n",
                            "      <td>In the 22nd century, a paraplegic Marine is di...</td>\n",
                            "    </tr>\n",
                            "    <tr>\n",
                            "      <th>1</th>\n",
                            "      <td>285</td>\n",
                            "      <td>Pirates of the Caribbean: At World's End</td>\n",
                            "      <td>[Captain, Barbossa,, long, believed, to, be, d...</td>\n",
                            "      <td>['Adventure', 'Fantasy', 'Action']</td>\n",
                            "      <td>['ocean', 'drugabuse', 'exoticisland', 'eastin...</td>\n",
                            "      <td>['JohnnyDepp', 'OrlandoBloom', 'KeiraKnightley']</td>\n",
                            "      <td>GoreVerbinski</td>\n",
                            "      <td>Captain Barbossa, long believed to be dead, ha...</td>\n",
                            "    </tr>\n",
                            "    <tr>\n",
                            "      <th>2</th>\n",
                            "      <td>206647</td>\n",
                            "      <td>Spectre</td>\n",
                            "      <td>[A, cryptic, message, from, Bond’s, past, send...</td>\n",
                            "      <td>['Action', 'Adventure', 'Crime']</td>\n",
                            "      <td>['spy', 'basedonnovel', 'secretagent', 'sequel...</td>\n",
                            "      <td>['DanielCraig', 'ChristophWaltz', 'LéaSeydoux']</td>\n",
                            "      <td>SamMendes</td>\n",
                            "      <td>A cryptic message from Bond’s past sends him o...</td>\n",
                            "    </tr>\n",
                            "    <tr>\n",
                            "      <th>3</th>\n",
                            "      <td>49026</td>\n",
                            "      <td>The Dark Knight Rises</td>\n",
                            "      <td>[Following, the, death, of, District, Attorney...</td>\n",
                            "      <td>['Action', 'Crime', 'Drama', 'Thriller']</td>\n",
                            "      <td>['dccomics', 'crimefighter', 'terrorist', 'sec...</td>\n",
                            "      <td>['ChristianBale', 'MichaelCaine', 'GaryOldman']</td>\n",
                            "      <td>ChristopherNolan</td>\n",
                            "      <td>Following the death of District Attorney Harve...</td>\n",
                            "    </tr>\n",
                            "    <tr>\n",
                            "      <th>4</th>\n",
                            "      <td>49529</td>\n",
                            "      <td>John Carter</td>\n",
                            "      <td>[John, Carter, is, a, war-weary,, former, mili...</td>\n",
                            "      <td>['Action', 'Adventure', 'ScienceFiction']</td>\n",
                            "      <td>['basedonnovel', 'mars', 'medallion', 'spacetr...</td>\n",
                            "      <td>['TaylorKitsch', 'LynnCollins', 'SamanthaMorton']</td>\n",
                            "      <td>AndrewStanton</td>\n",
                            "      <td>John Carter is a war-weary, former military ca...</td>\n",
                            "    </tr>\n",
                            "  </tbody>\n",
                            "</table>\n",
                            "</div>"
                        ],
                        "text/plain": [
                            "   movie_id                                     title  \\\n",
                            "0     19995                                    Avatar   \n",
                            "1       285  Pirates of the Caribbean: At World's End   \n",
                            "2    206647                                   Spectre   \n",
                            "3     49026                     The Dark Knight Rises   \n",
                            "4     49529                               John Carter   \n",
                            "\n",
                            "                                            overview  \\\n",
                            "0  [In, the, 22nd, century,, a, paraplegic, Marin...   \n",
                            "1  [Captain, Barbossa,, long, believed, to, be, d...   \n",
                            "2  [A, cryptic, message, from, Bond’s, past, send...   \n",
                            "3  [Following, the, death, of, District, Attorney...   \n",
                            "4  [John, Carter, is, a, war-weary,, former, mili...   \n",
                            "\n",
                            "                                              genres  \\\n",
                            "0  ['Action', 'Adventure', 'Fantasy', 'ScienceFic...   \n",
                            "1                 ['Adventure', 'Fantasy', 'Action']   \n",
                            "2                   ['Action', 'Adventure', 'Crime']   \n",
                            "3           ['Action', 'Crime', 'Drama', 'Thriller']   \n",
                            "4          ['Action', 'Adventure', 'ScienceFiction']   \n",
                            "\n",
                            "                                            keywords  \\\n",
                            "0  ['cultureclash', 'future', 'spacewar', 'spacec...   \n",
                            "1  ['ocean', 'drugabuse', 'exoticisland', 'eastin...   \n",
                            "2  ['spy', 'basedonnovel', 'secretagent', 'sequel...   \n",
                            "3  ['dccomics', 'crimefighter', 'terrorist', 'sec...   \n",
                            "4  ['basedonnovel', 'mars', 'medallion', 'spacetr...   \n",
                            "\n",
                            "                                                cast              crew  \\\n",
                            "0  ['SamWorthington', 'ZoeSaldana', 'SigourneyWea...      JamesCameron   \n",
                            "1   ['JohnnyDepp', 'OrlandoBloom', 'KeiraKnightley']     GoreVerbinski   \n",
                            "2    ['DanielCraig', 'ChristophWaltz', 'LéaSeydoux']         SamMendes   \n",
                            "3    ['ChristianBale', 'MichaelCaine', 'GaryOldman']  ChristopherNolan   \n",
                            "4  ['TaylorKitsch', 'LynnCollins', 'SamanthaMorton']     AndrewStanton   \n",
                            "\n",
                            "                                                tags  \n",
                            "0  In the 22nd century, a paraplegic Marine is di...  \n",
                            "1  Captain Barbossa, long believed to be dead, ha...  \n",
                            "2  A cryptic message from Bond’s past sends him o...  \n",
                            "3  Following the death of District Attorney Harve...  \n",
                            "4  John Carter is a war-weary, former military ca...  "
                        ]
                    },
                    "execution_count": 261,
                    "metadata": {},
                    "output_type": "execute_result"
                }
            ],
            "source": [
                "data.head()"
            ]
        },
        {
            "cell_type": "markdown",
            "metadata": {},
            "source": [
                "Una vez que transformamos los datos y creamos la columna de tags para vectorizacion, daremos por terminada la fase de exploracion, guardaremos el datset en un archivo csv y continuaremos en app.ipynb con la implementacion del modelo. "
            ]
        },
        {
            "cell_type": "code",
            "execution_count": 262,
            "metadata": {},
            "outputs": [],
            "source": [
                "data_interina = data\n",
                "\n",
                "data_interina.to_csv(rf'C:\\Users\\wipip\\OneDrive\\Documentos\\GitHub\\KNN-Project-main\\data\\interim\\data_con_tags.csv', index=False)"
            ]
        }
    ],
    "metadata": {
        "kernelspec": {
            "display_name": "Python 3.8.13 64-bit ('3.8.13')",
            "language": "python",
            "name": "python3"
        },
        "language_info": {
            "codemirror_mode": {
                "name": "ipython",
                "version": 3
            },
            "file_extension": ".py",
            "mimetype": "text/x-python",
            "name": "python",
            "nbconvert_exporter": "python",
            "pygments_lexer": "ipython3",
            "version": "3.12.4"
        },
        "orig_nbformat": 4,
        "vscode": {
            "interpreter": {
                "hash": "110cc1dee26208153f2972f08a2ad52b6a56238dc66d48e87fb757ef2996db56"
            }
        }
    },
    "nbformat": 4,
    "nbformat_minor": 2
}
